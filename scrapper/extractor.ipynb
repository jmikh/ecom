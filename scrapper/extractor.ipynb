{
 "cells": [
  {
   "cell_type": "code",
   "execution_count": null,
   "id": "086ee4bf",
   "metadata": {},
   "outputs": [],
   "source": [
    "from firecrawl import Firecrawl\n",
    "fc = Firecrawl(api_key=\"use-env-var\")"
   ]
  },
  {
   "cell_type": "code",
   "execution_count": 26,
   "id": "5cc9fe3e",
   "metadata": {},
   "outputs": [],
   "source": [
    "links = ['https://www.mantrabrand.com/collections/mantra-bracelets-collection/products/ohana', 'https://www.mantrabrand.com/collections/mantra-bracelets-collection/products/love-is-everything', 'https://www.mantrabrand.com/collections/mantra-bracelets-collection/products/breathe-bracelet', 'https://www.mantrabrand.com/collections/mantra-bracelets-collection/products/angel-number-threads', 'https://www.mantrabrand.com/collections/mantra-bracelets-collection/products/thread-for-teachers-teach-love-inspire', 'https://www.mantrabrand.com/collections/mantra-bracelets-collection/products/god-is-within-her-she-will-not-fall-bracelets', 'https://www.mantrabrand.com/collections/mantra-bracelets-collection/products/thread-of-the-red-cardinal-always-in-my-heart', 'https://www.mantrabrand.com/collections/mantra-bracelets-collection/products/braver-stronger-smarter-bracelets', 'https://www.mantrabrand.com/collections/mantra-bracelets-collection/products/inhale-exhale', 'https://www.mantrabrand.com/collections/mantra-bracelets-collection/products/life-is-tough-my-darling-but-so-are-you-within', 'https://www.mantrabrand.com/collections/mantra-bracelets-collection/products/evil-eye-bracelet-i-am-supported-and-protected', 'https://www.mantrabrand.com/collections/mantra-bracelets-collection/products/i-have-pawprints-on-my-heart', 'https://www.mantrabrand.com/collections/mantra-bracelets-collection/products/anam-cara-soul-friend-bracelet', 'https://www.mantrabrand.com/collections/mantra-bracelets-collection/products/thread-of-strength', 'https://www.mantrabrand.com/collections/mantra-bracelets-collection/products/a-true-friendship-is-a-journey-without-an-end-infinity', 'https://www.mantrabrand.com/collections/mantra-bracelets-collection/products/i-am-the-storm', 'https://www.mantrabrand.com/collections/mantra-bracelets-collection/products/live-life-in-full-color', 'https://www.mantrabrand.com/collections/mantra-bracelets-collection/products/love-and-hugs-bracelet', 'https://www.mantrabrand.com/collections/mantra-bracelets-collection/products/godmother', 'https://www.mantrabrand.com/collections/mantra-bracelets-collection/products/forever-family-bracelet', 'https://www.mantrabrand.com/collections/mantra-bracelets-collection/products/youre-my-person-1', 'https://www.mantrabrand.com/collections/mantra-bracelets-collection/products/it-is-what-it-is', 'https://www.mantrabrand.com/collections/mantra-bracelets-collection/products/always-my-sister-forever-my-friend', 'https://www.mantrabrand.com/collections/mantra-bracelets-collection/products/7-knots-of-protection-bracelet', 'https://www.mantrabrand.com/collections/mantra-bracelets-collection/products/thread-of-infinite-love', 'https://www.mantrabrand.com/collections/mantra-bracelets-collection/products/though-she-be-but-little-she-is-fierce', 'https://www.mantrabrand.com/collections/mantra-bracelets-collection/products/your-anxiety-is-lying-to-you-within', 'https://www.mantrabrand.com/collections/mantra-bracelets-collection/products/thread-of-divine-guidance', 'https://www.mantrabrand.com/collections/mantra-bracelets-collection/products/infinity-cuff-the-love-between-a-mother-and-daughter-knows-no-distance', 'https://www.mantrabrand.com/collections/mantra-bracelets-collection/products/grit-grace-gratitude', 'https://www.mantrabrand.com/collections/mantra-bracelets-collection/products/the-cross-bracelet', 'https://www.mantrabrand.com/collections/mantra-bracelets-collection/products/mother-daughter-bracelet', 'https://www.mantrabrand.com/collections/mantra-bracelets-collection/products/all-i-need-is-within-me-bracelets', 'https://www.mantrabrand.com/collections/mantra-bracelets-collection/products/intention-knot', 'https://www.mantrabrand.com/collections/mantra-bracelets-collection/products/choose-joy-bracelet', 'https://www.mantrabrand.com/collections/mantra-bracelets-collection/products/god-is-greater-than-the-highs-and-the-lows', 'https://www.mantrabrand.com/collections/mantra-bracelets-collection/products/let-your-light-shine', 'https://www.mantrabrand.com/collections/mantra-bracelets-collection/products/i-am-enough', 'https://www.mantrabrand.com/collections/mantra-bracelets-collection/products/one-day-at-a-time-bracelet', 'https://www.mantrabrand.com/collections/mantra-bracelets-collection/products/powerful-beautiful-brilliant-and-brave', 'https://www.mantrabrand.com/collections/mantra-bracelets-collection/products/strength-hope-courage', 'https://www.mantrabrand.com/collections/mantra-bracelets-collection/products/infinity-cuff-beautiful-girl-you-can-do-hard-things', 'https://www.mantrabrand.com/collections/mantra-bracelets-collection/products/lunar-phases-bracelet', 'https://www.mantrabrand.com/collections/mantra-bracelets-collection/products/you-are-my-sunshine', 'https://www.mantrabrand.com/collections/mantra-bracelets-collection/products/enjoy-the-journey-bracelets', 'https://www.mantrabrand.com/collections/mantra-bracelets-collection/products/beautiful-girl-you-can-do-hard-things-bracelets', 'https://www.mantrabrand.com/collections/mantra-bracelets-collection/products/forever-friends-bracelet', 'https://www.mantrabrand.com/collections/mantra-bracelets-collection/products/here-now-circle-thread', 'https://www.mantrabrand.com/collections/mantra-bracelets-collection/products/thread-of-grit-grace-gratitude', 'https://www.mantrabrand.com/collections/mantra-bracelets-collection/products/the-mountain-thread-do-hard-things', 'https://www.mantrabrand.com/collections/mantra-bracelets-collection/products/she-believed-bracelet-statement', 'https://www.mantrabrand.com/collections/mantra-bracelets-collection/products/you-are-loved-you-are-valued-you-are-beautiful', 'https://www.mantrabrand.com/collections/mantra-bracelets-collection/products/she-believed-she-could-so-she-did-bracelet', 'https://www.mantrabrand.com/collections/mantra-bracelets-collection/products/infinity-cuff-she-believed-she-could-so-she-did', 'https://www.mantrabrand.com/collections/mantra-bracelets-collection/products/the-love-between-a-mother-and-daughter-knows-no-distance-bracelets', 'https://www.mantrabrand.com/collections/mantra-bracelets-collection/products/you-make-the-world-a-better-place-bracelets', 'https://www.mantrabrand.com/collections/mantra-bracelets-collection/products/angel-number-bracelets', 'https://www.mantrabrand.com/collections/mantra-bracelets-collection/products/matching-friendship-bracelets', 'https://www.mantrabrand.com/collections/mantra-bracelets-collection/products/i-can-and-i-will-bracelets', 'https://www.mantrabrand.com/collections/mantra-bracelets-collection/products/a-true-friendship-is-a-journey-without-an-end-bracelets', 'https://www.mantrabrand.com/collections/mantra-bracelets-collection/products/believe-in-you-like-i-do-within', 'https://www.mantrabrand.com/collections/mantra-bracelets-collection/products/those-we-love-dont-go-away-they-walk-beside-us-every-day', 'https://www.mantrabrand.com/collections/mantra-bracelets-collection/products/let-go-and-let-god', 'https://www.mantrabrand.com/collections/mantra-bracelets-collection/products/this-too-shall-pass', 'https://www.mantrabrand.com/collections/mantra-bracelets-collection/products/charm-collector-string', 'https://www.mantrabrand.com/collections/mantra-bracelets-collection/products/you-are-the-sister-i-got-to-choose', 'https://www.mantrabrand.com/collections/mantra-bracelets-collection/products/custom', 'https://www.mantrabrand.com/collections/mantra-bracelets-collection/products/butterfly-charm-bracelet', 'https://www.mantrabrand.com/collections/mantra-bracelets-collection/products/you-got-this-bracelets', 'https://www.mantrabrand.com/collections/mantra-bracelets-collection/products/side-by-side-or-miles-apart-we-will-always-be-connected-by-heart', 'https://www.mantrabrand.com/collections/mantra-bracelets-collection/products/thread-of-protection', 'https://www.mantrabrand.com/collections/mantra-bracelets-collection/products/thread-of-joy', 'https://www.mantrabrand.com/collections/mantra-bracelets-collection/products/don-t-let-the-hard-days-win', 'https://www.mantrabrand.com/collections/mantra-bracelets-collection/products/own-your-power-know-your-worth', 'https://www.mantrabrand.com/collections/mantra-bracelets-collection/products/never-forget-how-wildly-capable-you-are', 'https://www.mantrabrand.com/collections/mantra-bracelets-collection/products/soul-sisters-bracelets', 'https://www.mantrabrand.com/collections/mantra-bracelets-collection/products/thread-of-unity', 'https://www.mantrabrand.com/collections/mantra-bracelets-collection/products/be-fearless-in-the-pursuit-of-what-sets-your-soul-on-fire', 'https://www.mantrabrand.com/collections/mantra-bracelets-collection/products/11-11-make-a-wish', 'https://www.mantrabrand.com/collections/mantra-bracelets-collection/products/gratitude', 'https://www.mantrabrand.com/collections/mantra-bracelets-collection/products/trust-the-magic-of-new-beginnings', 'https://www.mantrabrand.com/collections/mantra-bracelets-collection/products/the-daisy-thread-trust-your-journey', 'https://www.mantrabrand.com/collections/mantra-bracelets-collection/products/reach-for-the-stars-bracelet', 'https://www.mantrabrand.com/collections/mantra-bracelets-collection/products/clover-thread-good-luck', 'https://www.mantrabrand.com/collections/mantra-bracelets-collection/products/the-tribe-thread', 'https://www.mantrabrand.com/collections/mantra-bracelets-collection/products/pawprint-cuff-i-have-pawprints-on-my-heart', 'https://www.mantrabrand.com/collections/mantra-bracelets-collection/products/believe-threadstm-bracelet', 'https://www.mantrabrand.com/collections/mantra-bracelets-collection/products/sometimes-in-the-waves-of-change-we-find-our-true-direction', 'https://www.mantrabrand.com/collections/mantra-bracelets-collection/products/the-cross-string-bracelet', 'https://www.mantrabrand.com/collections/mantra-bracelets-collection/products/pawprint-string-bracelet', 'https://www.mantrabrand.com/collections/mantra-bracelets-collection/products/i-can-do-hard-things', 'https://www.mantrabrand.com/collections/mantra-bracelets-collection/products/affirmations', 'https://www.mantrabrand.com/collections/mantra-bracelets-collection/products/always-in-my-heart-bracelets', 'https://www.mantrabrand.com/collections/mantra-bracelets-collection/products/kind-heart-fierce-mind-brave-spirit-bracelets', 'https://www.mantrabrand.com/collections/mantra-bracelets-collection/products/beautiful-girl-you-can-do-amazing-things', 'https://www.mantrabrand.com/collections/mantra-bracelets-collection/products/dream-believe-achieve-bracelet', 'https://www.mantrabrand.com/collections/mantra-bracelets-collection/products/warrior-bracelet', 'https://www.mantrabrand.com/collections/mantra-bracelets-collection/products/ily-heart-bracelet']"
   ]
  },
  {
   "cell_type": "code",
   "execution_count": 21,
   "id": "e75bfd88",
   "metadata": {},
   "outputs": [],
   "source": [
    "result = fc.extract(\n",
    "    [\"https://www.mantrabrand.com/collections/mantra-bracelets-collection/products/ily-heart-bracelet\"],\n",
    "    prompt=\"Return the properties of the product. here are is an incomprehensive list of the properties [Link, Images, Reviews, Product Name, Material & Care, Product Details & Fit, Shipping & Returns, About This Mantra, Size, Material, Options, Price, Original Price], don't change the property names I provided in your response\",\n",
    ")\n",
    "data = result.data"
   ]
  },
  {
   "cell_type": "code",
   "execution_count": 30,
   "id": "99b865d2",
   "metadata": {},
   "outputs": [
    {
     "name": "stdout",
     "output_type": "stream",
     "text": [
      "{\n",
      "  \"Link\": \"https://www.mantrabrand.com/products/ily-heart-bracelet\",\n",
      "  \"Size\": \"Both Adult and Child sized bracelets are fully adjustable. Child sized bracelet will fit children ages 3-10.\",\n",
      "  \"Price\": 35,\n",
      "  \"Images\": [\n",
      "    \"https://www.mantrabrand.com/cdn/shop/files/ILYheartbracelet-MommyandMeset-largegold-MantraBand_408x.jpg?v=1690310490\",\n",
      "    \"https://www.mantrabrand.com/cdn/shop/files/ILYheartbracelet-MommyandMeset-largesilver-MantraBand_408x.jpg?v=1690310489\",\n",
      "    \"https://www.mantrabrand.com/cdn/shop/files/ILYheartbracelet-MommyandMeset-smallgold-MantraBand_408x.jpg?v=1690310490\",\n",
      "    \"https://www.mantrabrand.com/cdn/shop/files/ILYheartbracelet-MommyandMeset-smallsilver-MantraBand_408x.jpg?v=1690310490\"\n",
      "  ],\n",
      "  \"Options\": [\n",
      "    \"Yellow Gold / Adult\",\n",
      "    \"Silver / Adult\",\n",
      "    \"Silver / Child\",\n",
      "    \"Yellow Gold / Child\"\n",
      "  ],\n",
      "  \"Reviews\": [\n",
      "    {\n",
      "      \"rating\": 5,\n",
      "      \"comment\": \"I bought the set of ILY (I love you) bracelets for my granddaughter & I . She\\u2019s turning 5 and that will be part of her birthday gift as she loves all of my bracelets. It\\u2019s a beautiful set!\",\n",
      "      \"reviewer\": \"Deborah S.\"\n",
      "    },\n",
      "    {\n",
      "      \"rating\": 5,\n",
      "      \"comment\": \"I gave it to my daughters for Valentine\\u2019s Day. They loved it!\",\n",
      "      \"reviewer\": \"Sarre G. B.\"\n",
      "    },\n",
      "    {\n",
      "      \"rating\": 5,\n",
      "      \"comment\": \"This bracelet is very pretty, well made and comfortable. Delicate design.\",\n",
      "      \"reviewer\": \"Helen B.\"\n",
      "    },\n",
      "    {\n",
      "      \"rating\": 5,\n",
      "      \"comment\": \"I love the experience, the gifts didn\\u2019t take long and my lady loved them.\",\n",
      "      \"reviewer\": \"rafiq c.\"\n",
      "    },\n",
      "    {\n",
      "      \"rating\": 5,\n",
      "      \"comment\": \"Bought it for a gift. Very beautiful bracelet. I\\u2019m getting myself the silver one.\",\n",
      "      \"reviewer\": \"Claudia L.\"\n",
      "    }\n",
      "  ],\n",
      "  \"Material\": \"Medical grade stainless steel. Lead free, nickel free, hypoallergenic, tarnish resistant. Gold bracelets are 18K gold dipped.\",\n",
      "  \"Product Name\": \"ILY - Heart Bracelet\",\n",
      "  \"Original Price\": 0,\n",
      "  \"Material & Care\": \"MantraBands are made of hypoallergenic, tarnish resistant, lead free, surgical grade stainless steel. Gold and rose gold bracelets are 18K PVD plated stainless steel. To clean, wipe with a soft cloth. Avoid frequent contact with strong chemicals, such as detergent, bleach, perfume, etc. Store in a jewelry box or soft cloth. Always remember to remove your gold bands before shower or exercise. Do not wear them in hot tubs or swimming pools.\",\n",
      "  \"About This Mantra\": \"Inscribed with ily on the inside. I love you more each day, I love you more than you\\u2019ll ever know. I love you every step of the way. For always, forever, I love you.\",\n",
      "  \"Shipping & Returns\": \"Standard shipping is free on all domestic (US) orders over $60. We also offer free shipping on most international orders with minimum order amount of 200 USD. Delivery times are shown on the checkout page and are in addition to the 1-2 day processing time. You will receive a shipment confirmation email with tracking number when your order is shipped. If you are not completely satisfied with your purchase, send it back within 30 days for a full refund or exchange.\",\n",
      "  \"Product Details & Fit\": \"MantraBands are fully adjustable and will fit most wrist sizes. We designed them to be delicate, lightweight, comfortable and durable, so you can wear them daily, to work or play. Our bracelets are made of hypoallergenic, lead free, and tarnish resistant stainless steel. Gold MantraBands are made with the same strong, tarnish resistant material as our silver bands, with a thick overlay of 18K gold. With proper care, gold plated bands will last a long time.\"\n",
      "}\n"
     ]
    }
   ],
   "source": [
    "import json\n",
    "print(json.dumps(data, indent=2))"
   ]
  },
  {
   "cell_type": "code",
   "execution_count": 34,
   "id": "2bb51744",
   "metadata": {},
   "outputs": [],
   "source": [
    "products = []\n",
    "for link in links[:1]:\n",
    "    result = fc.extract([link],\n",
    "    prompt=\"Return the properties of the product. here are is an comprehensive list of the properties and types: (\\\"url\\\", \\\"TEXT\\\"), (\\\"size\\\", \\\"TEXT\\\"), (\\\"price\\\", \\\"DECIMAL(10, 2)\\\"),  (\\\"original_price\\\", \\\"DECIMAL(10, 2)\\\"), (\\\"review_avg_score\\\", \\\"DECIMAL(10,   2)\\\"), (\\\"images\\\", \\\"TEXT[]\\\"), (\\\"options\\\", \\\"TEXT[]\\\"), (\\\"reviews\\\", \\\"TEXT[]\\\"), (\\\"material\\\", \\\"TEXT\\\"), (\\\"product_name\\\", \\\"TEXT\\\"), (\\\"material_and_care\\\", \\\"TEXT\\\"), (\\\"about_this_mantra\\\", \\\"TEXT\\\"),  (\\\"shipping_and_returns\\\", \\\"TEXT\\\"), (\\\"product_details_fit\\\", \\\"TEXT\\\"),(\\\"category\\\", \\\"TEXT\\\") \")\n",
    "    products.append(result.data)"
   ]
  },
  {
   "cell_type": "code",
   "execution_count": 35,
   "id": "ac41e4a1",
   "metadata": {},
   "outputs": [],
   "source": [
    "for product in products:\n",
    "    product[\"category\"] = \"bracelets\""
   ]
  },
  {
   "cell_type": "code",
   "execution_count": 36,
   "id": "b6b1cd9e",
   "metadata": {},
   "outputs": [
    {
     "name": "stdout",
     "output_type": "stream",
     "text": [
      "[\n",
      "  {\n",
      "    \"url\": \"https://www.mantrabrand.com/collections/mantra-bracelets-collection/products/ohana\",\n",
      "    \"size\": \"Fully adjustable, one size fits most.\",\n",
      "    \"price\": 35,\n",
      "    \"images\": [\n",
      "      \"https://www.mantrabrand.com/cdn/shop/files/Ohana_bracelet_-_silver_-_MantraBand_31816e07-2a0b-4997-a096-a19764d5bd44_408x.jpg?v=1717625585\",\n",
      "      \"https://www.mantrabrand.com/cdn/shop/files/Ohana_bracelet_-_Gold_-_MantraBand_5b85b04b-6a76-43d3-b0f1-90f5aaeaf533_408x.jpg?v=1717625585\",\n",
      "      \"https://www.mantrabrand.com/cdn/shop/files/Ohana_bracelet_-_Rose_Gold_-_MantraBand_3fdfa75d-6931-4a9f-b41f-11e37fb424a7_408x.jpg?v=1717625585\",\n",
      "      \"https://www.mantrabrand.com/cdn/shop/files/Ohana_bracelet_-_moon_gray_-_MantraBand_624dc6ec-cc4d-4c53-8c67-14f7bb448649_408x.jpg?v=1717625585\"\n",
      "    ],\n",
      "    \"options\": [\n",
      "      \"Silver\",\n",
      "      \"Yellow Gold\",\n",
      "      \"Rose Gold\",\n",
      "      \"Moon Gray\"\n",
      "    ],\n",
      "    \"reviews\": [\n",
      "      \"Rated 5.0 out of 5 stars\",\n",
      "      \"I love the two I have that\\u2019s why I have ordered two more\",\n",
      "      \"This bracelet blends in very well. I am very pleased with all these mantras and enjoy wearing them.\",\n",
      "      \"Love this bracelet and perfect timing for all the girls in my family. I got everyone a bracelet as a reminder that family is forever no matter what and that they are loved and supported no matter what. Beautiful gift for all of them.\",\n",
      "      \"It\\u2019s perfect!\"\n",
      "    ],\n",
      "    \"category\": \"bracelets\",\n",
      "    \"material\": \"Stainless Steel. Hypoallergenic and tarnish resistant. Safe to wear in water. Gold and rose gold pieces are 18K PVD gold plated.\",\n",
      "    \"product_name\": \"Ohana\",\n",
      "    \"original_price\": 0,\n",
      "    \"review_avg_score\": 5,\n",
      "    \"about_this_mantra\": \"A circle of strength, love, and support. Family is forever, always, no matter what. Let this be your reminder of love and memories, and your anchor for strength. We are family, we are forever.\",\n",
      "    \"material_and_care\": \"MantraBands are made of hypoallergenic, tarnish resistant, lead free, surgical grade stainless steel. Gold and rose gold bracelets are 18K PVD plated stainless steel. To clean, wipe with a soft cloth. Avoid frequent contact with strong chemicals, such as detergent, bleach, perfume, etc. Store in a jewelry box or soft cloth. Always remember to remove your gold bands before shower or exercise. Do not wear them in hot tubs or swimming pools.\",\n",
      "    \"product_details_fit\": \"MantraBands are fully adjustable and will fit most wrist sizes. We designed them to be delicate, lightweight, comfortable and durable, so you can wear them daily, to work or play. Our bracelets are made of hypoallergenic, lead free, and tarnish resistant stainless steel. Gold MantraBands are made with the same strong, tarnish resistant material as our silver bands, with a thick overlay of 18K gold. With proper care, gold plated bands will last a long time.\",\n",
      "    \"shipping_and_returns\": \"Standard shipping is free on all domestic (US) orders over $60. We also offer free shipping on most international orders with minimum order amount of 200 USD. Delivery times are shown on the checkout page and are in addition to the 1-2 day processing time. You will receive a shipment confirmation email with tracking number when your order is shipped. We stand behind our products. If you are not completely satisfied with your purchase, send it back within 30 days for a full refund or exchange.\"\n",
      "  }\n",
      "]\n"
     ]
    }
   ],
   "source": [
    "print(json.dumps(products, indent=2))"
   ]
  }
 ],
 "metadata": {
  "kernelspec": {
   "display_name": ".venv",
   "language": "python",
   "name": "python3"
  },
  "language_info": {
   "codemirror_mode": {
    "name": "ipython",
    "version": 3
   },
   "file_extension": ".py",
   "mimetype": "text/x-python",
   "name": "python",
   "nbconvert_exporter": "python",
   "pygments_lexer": "ipython3",
   "version": "3.13.7"
  }
 },
 "nbformat": 4,
 "nbformat_minor": 5
}

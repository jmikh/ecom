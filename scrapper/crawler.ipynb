{
 "cells": [
  {
   "cell_type": "code",
   "execution_count": null,
   "id": "dfa234cf",
   "metadata": {},
   "outputs": [],
   "source": [
    "from firecrawl import Firecrawl\n",
    "fc = Firecrawl(api_key=\"use-env-var\")"
   ]
  },
  {
   "cell_type": "code",
   "execution_count": 26,
   "id": "b69d399e",
   "metadata": {},
   "outputs": [],
   "source": [
    "data = fc.crawl(\n",
    "    \"https://www.mantrabrand.com/collections/mantra-bracelets-collection\",\n",
    "    max_discovery_depth=1,\n",
    "    limit=1,\n",
    ")  \n"
   ]
  },
  {
   "cell_type": "code",
   "execution_count": 34,
   "id": "89fd70aa",
   "metadata": {},
   "outputs": [
    {
     "name": "stdout",
     "output_type": "stream",
     "text": [
      "<class 'str'>\n"
     ]
    }
   ],
   "source": [
    "\n",
    "doc = data.data[0]\n",
    "print(type(doc.markdown))"
   ]
  },
  {
   "cell_type": "code",
   "execution_count": 37,
   "id": "d172348f",
   "metadata": {},
   "outputs": [],
   "source": [
    "import re\n",
    "pattern = re.compile(r\"https://www.mantrabrand.com/collections/mantra-bracelets-collection/products/[^\\s)]+\")"
   ]
  },
  {
   "cell_type": "code",
   "execution_count": 39,
   "id": "7a2ad256",
   "metadata": {},
   "outputs": [
    {
     "name": "stdout",
     "output_type": "stream",
     "text": [
      "['https://www.mantrabrand.com/collections/mantra-bracelets-collection/products/ohana', 'https://www.mantrabrand.com/collections/mantra-bracelets-collection/products/love-is-everything', 'https://www.mantrabrand.com/collections/mantra-bracelets-collection/products/breathe-bracelet', 'https://www.mantrabrand.com/collections/mantra-bracelets-collection/products/angel-number-threads', 'https://www.mantrabrand.com/collections/mantra-bracelets-collection/products/thread-for-teachers-teach-love-inspire', 'https://www.mantrabrand.com/collections/mantra-bracelets-collection/products/god-is-within-her-she-will-not-fall-bracelets', 'https://www.mantrabrand.com/collections/mantra-bracelets-collection/products/thread-of-the-red-cardinal-always-in-my-heart', 'https://www.mantrabrand.com/collections/mantra-bracelets-collection/products/braver-stronger-smarter-bracelets', 'https://www.mantrabrand.com/collections/mantra-bracelets-collection/products/inhale-exhale', 'https://www.mantrabrand.com/collections/mantra-bracelets-collection/products/life-is-tough-my-darling-but-so-are-you-within', 'https://www.mantrabrand.com/collections/mantra-bracelets-collection/products/evil-eye-bracelet-i-am-supported-and-protected', 'https://www.mantrabrand.com/collections/mantra-bracelets-collection/products/i-have-pawprints-on-my-heart', 'https://www.mantrabrand.com/collections/mantra-bracelets-collection/products/anam-cara-soul-friend-bracelet', 'https://www.mantrabrand.com/collections/mantra-bracelets-collection/products/thread-of-strength', 'https://www.mantrabrand.com/collections/mantra-bracelets-collection/products/a-true-friendship-is-a-journey-without-an-end-infinity', 'https://www.mantrabrand.com/collections/mantra-bracelets-collection/products/i-am-the-storm', 'https://www.mantrabrand.com/collections/mantra-bracelets-collection/products/live-life-in-full-color', 'https://www.mantrabrand.com/collections/mantra-bracelets-collection/products/love-and-hugs-bracelet', 'https://www.mantrabrand.com/collections/mantra-bracelets-collection/products/godmother', 'https://www.mantrabrand.com/collections/mantra-bracelets-collection/products/forever-family-bracelet', 'https://www.mantrabrand.com/collections/mantra-bracelets-collection/products/youre-my-person-1', 'https://www.mantrabrand.com/collections/mantra-bracelets-collection/products/it-is-what-it-is', 'https://www.mantrabrand.com/collections/mantra-bracelets-collection/products/always-my-sister-forever-my-friend', 'https://www.mantrabrand.com/collections/mantra-bracelets-collection/products/7-knots-of-protection-bracelet', 'https://www.mantrabrand.com/collections/mantra-bracelets-collection/products/thread-of-infinite-love', 'https://www.mantrabrand.com/collections/mantra-bracelets-collection/products/though-she-be-but-little-she-is-fierce', 'https://www.mantrabrand.com/collections/mantra-bracelets-collection/products/your-anxiety-is-lying-to-you-within', 'https://www.mantrabrand.com/collections/mantra-bracelets-collection/products/thread-of-divine-guidance', 'https://www.mantrabrand.com/collections/mantra-bracelets-collection/products/infinity-cuff-the-love-between-a-mother-and-daughter-knows-no-distance', 'https://www.mantrabrand.com/collections/mantra-bracelets-collection/products/grit-grace-gratitude', 'https://www.mantrabrand.com/collections/mantra-bracelets-collection/products/the-cross-bracelet', 'https://www.mantrabrand.com/collections/mantra-bracelets-collection/products/mother-daughter-bracelet', 'https://www.mantrabrand.com/collections/mantra-bracelets-collection/products/all-i-need-is-within-me-bracelets', 'https://www.mantrabrand.com/collections/mantra-bracelets-collection/products/intention-knot', 'https://www.mantrabrand.com/collections/mantra-bracelets-collection/products/choose-joy-bracelet', 'https://www.mantrabrand.com/collections/mantra-bracelets-collection/products/god-is-greater-than-the-highs-and-the-lows', 'https://www.mantrabrand.com/collections/mantra-bracelets-collection/products/let-your-light-shine', 'https://www.mantrabrand.com/collections/mantra-bracelets-collection/products/i-am-enough', 'https://www.mantrabrand.com/collections/mantra-bracelets-collection/products/one-day-at-a-time-bracelet', 'https://www.mantrabrand.com/collections/mantra-bracelets-collection/products/powerful-beautiful-brilliant-and-brave', 'https://www.mantrabrand.com/collections/mantra-bracelets-collection/products/strength-hope-courage', 'https://www.mantrabrand.com/collections/mantra-bracelets-collection/products/infinity-cuff-beautiful-girl-you-can-do-hard-things', 'https://www.mantrabrand.com/collections/mantra-bracelets-collection/products/lunar-phases-bracelet', 'https://www.mantrabrand.com/collections/mantra-bracelets-collection/products/you-are-my-sunshine', 'https://www.mantrabrand.com/collections/mantra-bracelets-collection/products/enjoy-the-journey-bracelets', 'https://www.mantrabrand.com/collections/mantra-bracelets-collection/products/beautiful-girl-you-can-do-hard-things-bracelets', 'https://www.mantrabrand.com/collections/mantra-bracelets-collection/products/forever-friends-bracelet', 'https://www.mantrabrand.com/collections/mantra-bracelets-collection/products/here-now-circle-thread', 'https://www.mantrabrand.com/collections/mantra-bracelets-collection/products/thread-of-grit-grace-gratitude', 'https://www.mantrabrand.com/collections/mantra-bracelets-collection/products/the-mountain-thread-do-hard-things', 'https://www.mantrabrand.com/collections/mantra-bracelets-collection/products/she-believed-bracelet-statement', 'https://www.mantrabrand.com/collections/mantra-bracelets-collection/products/you-are-loved-you-are-valued-you-are-beautiful', 'https://www.mantrabrand.com/collections/mantra-bracelets-collection/products/she-believed-she-could-so-she-did-bracelet', 'https://www.mantrabrand.com/collections/mantra-bracelets-collection/products/infinity-cuff-she-believed-she-could-so-she-did', 'https://www.mantrabrand.com/collections/mantra-bracelets-collection/products/the-love-between-a-mother-and-daughter-knows-no-distance-bracelets', 'https://www.mantrabrand.com/collections/mantra-bracelets-collection/products/you-make-the-world-a-better-place-bracelets', 'https://www.mantrabrand.com/collections/mantra-bracelets-collection/products/angel-number-bracelets', 'https://www.mantrabrand.com/collections/mantra-bracelets-collection/products/matching-friendship-bracelets', 'https://www.mantrabrand.com/collections/mantra-bracelets-collection/products/i-can-and-i-will-bracelets', 'https://www.mantrabrand.com/collections/mantra-bracelets-collection/products/a-true-friendship-is-a-journey-without-an-end-bracelets', 'https://www.mantrabrand.com/collections/mantra-bracelets-collection/products/believe-in-you-like-i-do-within', 'https://www.mantrabrand.com/collections/mantra-bracelets-collection/products/those-we-love-dont-go-away-they-walk-beside-us-every-day', 'https://www.mantrabrand.com/collections/mantra-bracelets-collection/products/let-go-and-let-god', 'https://www.mantrabrand.com/collections/mantra-bracelets-collection/products/this-too-shall-pass', 'https://www.mantrabrand.com/collections/mantra-bracelets-collection/products/charm-collector-string', 'https://www.mantrabrand.com/collections/mantra-bracelets-collection/products/you-are-the-sister-i-got-to-choose', 'https://www.mantrabrand.com/collections/mantra-bracelets-collection/products/custom', 'https://www.mantrabrand.com/collections/mantra-bracelets-collection/products/butterfly-charm-bracelet', 'https://www.mantrabrand.com/collections/mantra-bracelets-collection/products/you-got-this-bracelets', 'https://www.mantrabrand.com/collections/mantra-bracelets-collection/products/side-by-side-or-miles-apart-we-will-always-be-connected-by-heart', 'https://www.mantrabrand.com/collections/mantra-bracelets-collection/products/thread-of-protection', 'https://www.mantrabrand.com/collections/mantra-bracelets-collection/products/thread-of-joy', 'https://www.mantrabrand.com/collections/mantra-bracelets-collection/products/don-t-let-the-hard-days-win', 'https://www.mantrabrand.com/collections/mantra-bracelets-collection/products/own-your-power-know-your-worth', 'https://www.mantrabrand.com/collections/mantra-bracelets-collection/products/never-forget-how-wildly-capable-you-are', 'https://www.mantrabrand.com/collections/mantra-bracelets-collection/products/soul-sisters-bracelets', 'https://www.mantrabrand.com/collections/mantra-bracelets-collection/products/thread-of-unity', 'https://www.mantrabrand.com/collections/mantra-bracelets-collection/products/be-fearless-in-the-pursuit-of-what-sets-your-soul-on-fire', 'https://www.mantrabrand.com/collections/mantra-bracelets-collection/products/11-11-make-a-wish', 'https://www.mantrabrand.com/collections/mantra-bracelets-collection/products/gratitude', 'https://www.mantrabrand.com/collections/mantra-bracelets-collection/products/trust-the-magic-of-new-beginnings', 'https://www.mantrabrand.com/collections/mantra-bracelets-collection/products/the-daisy-thread-trust-your-journey', 'https://www.mantrabrand.com/collections/mantra-bracelets-collection/products/reach-for-the-stars-bracelet', 'https://www.mantrabrand.com/collections/mantra-bracelets-collection/products/clover-thread-good-luck', 'https://www.mantrabrand.com/collections/mantra-bracelets-collection/products/the-tribe-thread', 'https://www.mantrabrand.com/collections/mantra-bracelets-collection/products/pawprint-cuff-i-have-pawprints-on-my-heart', 'https://www.mantrabrand.com/collections/mantra-bracelets-collection/products/believe-threadstm-bracelet', 'https://www.mantrabrand.com/collections/mantra-bracelets-collection/products/sometimes-in-the-waves-of-change-we-find-our-true-direction', 'https://www.mantrabrand.com/collections/mantra-bracelets-collection/products/the-cross-string-bracelet', 'https://www.mantrabrand.com/collections/mantra-bracelets-collection/products/pawprint-string-bracelet', 'https://www.mantrabrand.com/collections/mantra-bracelets-collection/products/i-can-do-hard-things', 'https://www.mantrabrand.com/collections/mantra-bracelets-collection/products/affirmations', 'https://www.mantrabrand.com/collections/mantra-bracelets-collection/products/always-in-my-heart-bracelets', 'https://www.mantrabrand.com/collections/mantra-bracelets-collection/products/kind-heart-fierce-mind-brave-spirit-bracelets', 'https://www.mantrabrand.com/collections/mantra-bracelets-collection/products/beautiful-girl-you-can-do-amazing-things', 'https://www.mantrabrand.com/collections/mantra-bracelets-collection/products/dream-believe-achieve-bracelet', 'https://www.mantrabrand.com/collections/mantra-bracelets-collection/products/warrior-bracelet', 'https://www.mantrabrand.com/collections/mantra-bracelets-collection/products/ily-heart-bracelet']\n"
     ]
    }
   ],
   "source": [
    "product_links = set(pattern.findall(doc.markdown))\n",
    "print(list(product_links))"
   ]
  }
 ],
 "metadata": {
  "kernelspec": {
   "display_name": ".venv",
   "language": "python",
   "name": "python3"
  },
  "language_info": {
   "codemirror_mode": {
    "name": "ipython",
    "version": 3
   },
   "file_extension": ".py",
   "mimetype": "text/x-python",
   "name": "python",
   "nbconvert_exporter": "python",
   "pygments_lexer": "ipython3",
   "version": "3.13.7"
  }
 },
 "nbformat": 4,
 "nbformat_minor": 5
}
